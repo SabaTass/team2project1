{
 "cells": [
  {
   "cell_type": "code",
   "execution_count": 1,
   "metadata": {},
   "outputs": [
    {
     "ename": "ModuleNotFoundError",
     "evalue": "No module named 'API_Key_Holder'",
     "output_type": "error",
     "traceback": [
      "\u001b[1;31m---------------------------------------------------------------------------\u001b[0m",
      "\u001b[1;31mModuleNotFoundError\u001b[0m                       Traceback (most recent call last)",
      "\u001b[1;32m<ipython-input-1-19d3e9c58e5f>\u001b[0m in \u001b[0;36m<module>\u001b[1;34m\u001b[0m\n\u001b[0;32m     13\u001b[0m \u001b[1;33m\u001b[0m\u001b[0m\n\u001b[0;32m     14\u001b[0m \u001b[1;31m# Import API key\u001b[0m\u001b[1;33m\u001b[0m\u001b[1;33m\u001b[0m\u001b[1;33m\u001b[0m\u001b[0m\n\u001b[1;32m---> 15\u001b[1;33m \u001b[1;32mfrom\u001b[0m \u001b[0mAPI_Key_Holder\u001b[0m \u001b[1;32mimport\u001b[0m \u001b[0mZ_API_Key\u001b[0m\u001b[1;33m\u001b[0m\u001b[1;33m\u001b[0m\u001b[0m\n\u001b[0m\u001b[0;32m     16\u001b[0m \u001b[1;33m\u001b[0m\u001b[0m\n\u001b[0;32m     17\u001b[0m \u001b[0mstate\u001b[0m \u001b[1;33m=\u001b[0m \u001b[1;34m\"nc\"\u001b[0m\u001b[1;33m\u001b[0m\u001b[1;33m\u001b[0m\u001b[0m\n",
      "\u001b[1;31mModuleNotFoundError\u001b[0m: No module named 'API_Key_Holder'"
     ]
    }
   ],
   "source": [
    "# Import dependencies & setup\n",
    "import matplotlib.pyplot as plt\n",
    "import pandas as pd\n",
    "import numpy as np\n",
    "import requests\n",
    "import time\n",
    "# from census import Census\n",
    "from pprint import pprint\n",
    "# import pprint\n",
    "import xml.etree.ElementTree as ET\n",
    "from xmltodict import parse\n",
    "import json\n",
    "\n",
    "# Import API key\n",
    "from API_Key_Holder import Z_API_Key\n",
    "\n",
    "state = \"nc\"\n",
    "city = \"Raleigh\"\n",
    "childtype = \"neighborhood\"\n",
    "output = \"json\""
   ]
  },
  {
   "cell_type": "code",
   "execution_count": null,
   "metadata": {},
   "outputs": [],
   "source": [
    "base_url = \"http://www.zillow.com/webservice/GetRegionChildren.htm?zws-id=\"\n",
    "\n",
    "# Build partial query URL\n",
    "url = f\"{base_url}{Z_API_Key}&state={state}&city={city}&childtype={childtype}&output={output}\"\n",
    "\n",
    "# <ZWSID>&state=wa&city=seattle&childtype=neighborhood"
   ]
  },
  {
   "cell_type": "code",
   "execution_count": null,
   "metadata": {
    "scrolled": true
   },
   "outputs": [],
   "source": [
    "XML_Data = requests.get(url).content\n",
    "pprint(json.dumps(parse(XML_Data)), indent=8)"
   ]
  },
  {
   "cell_type": "code",
   "execution_count": null,
   "metadata": {},
   "outputs": [],
   "source": [
    "# response = requests.get(url.replace(' ','&')).json()\n",
    "# response = requests.get(url).json()\n",
    "# # response = requests.get(url)\n",
    "# pprint(response)\n",
    "url"
   ]
  },
  {
   "cell_type": "code",
   "execution_count": null,
   "metadata": {},
   "outputs": [],
   "source": [
    "# fdf = json.dumps(parse(XML_Data))\n",
    "# fdf1=fdf[34:-2].replace(\"'{'\",\"{\")\n",
    "# fdf1\n",
    "# fdf1 = json.dumps(parse(fdf))\n",
    "# fdf1"
   ]
  },
  {
   "cell_type": "code",
   "execution_count": null,
   "metadata": {},
   "outputs": [],
   "source": [
    "# ignore: this was a test!\n",
    "# XML_Data"
   ]
  },
  {
   "cell_type": "code",
   "execution_count": null,
   "metadata": {},
   "outputs": [],
   "source": [
    "json_data_f = {\n",
    "   \"@schemaLocation\": \"http://www.zillow.com/static/xsd/RegionChildren.xsd https://www.zillowstatic.com/vstatic/80d5e73/static/xsd/RegionChildren.xsd\",\n",
    "   \"request\": {\n",
    "      \"state\": \"nc\",\n",
    "      \"city\": \"Raleigh\",\n",
    "      \"childtype\": \"neighborhood\"\n",
    "   },\n",
    "   \"message\": {\n",
    "      \"text\": \"Request successfully processed\",\n",
    "      \"code\": \"0\"\n",
    "   },\n",
    "   \"response\": {\n",
    "      \"region\": {\n",
    "         \"id\": \"54047\",\n",
    "         \"latitude\": \"35.78637\",\n",
    "         \"longitude\": \"-78.625489\"\n",
    "      },\n",
    "      \"subregiontype\": \"neighborhood\",\n",
    "      \"list\": {\n",
    "         \"count\": \"18\",\n",
    "         \"region\": [\n",
    "            {\n",
    "               \"id\": \"270318\",\n",
    "               \"name\": \"North Raleigh\",\n",
    "               \"zindex\": {\n",
    "                  \"@currency\": \"USD\",\n",
    "                  \"#text\": \"238100\"\n",
    "               },\n",
    "               \"url\": \"http://www.zillow.com/local-info/NC-Raleigh/North-Raleigh/r_270318/\",\n",
    "               \"latitude\": \"35.910781\",\n",
    "               \"longitude\": \"-78.610127\"\n",
    "            },\n",
    "            {\n",
    "               \"id\": \"343868\",\n",
    "               \"name\": \"Northwest Raleigh\",\n",
    "               \"zindex\": {\n",
    "                  \"@currency\": \"USD\",\n",
    "                  \"#text\": \"246100\"\n",
    "               },\n",
    "               \"url\": \"http://www.zillow.com/local-info/NC-Raleigh/Northwest-Raleigh/r_343868/\",\n",
    "               \"latitude\": \"35.870212\",\n",
    "               \"longitude\": \"-78.745308\"\n",
    "            },\n",
    "            {\n",
    "               \"id\": \"343869\",\n",
    "               \"name\": \"Northeast Raleigh\",\n",
    "               \"zindex\": {\n",
    "                  \"@currency\": \"USD\",\n",
    "                  \"#text\": \"148600\"\n",
    "               },\n",
    "               \"url\": \"http://www.zillow.com/local-info/NC-Raleigh/Northeast-Raleigh/r_343869/\",\n",
    "               \"latitude\": \"35.849651\",\n",
    "               \"longitude\": \"-78.555473\"\n",
    "            },\n",
    "            {\n",
    "               \"id\": \"343864\",\n",
    "               \"name\": \"West Raleigh\",\n",
    "               \"zindex\": {\n",
    "                  \"@currency\": \"USD\",\n",
    "                  \"#text\": \"144100\"\n",
    "               },\n",
    "               \"url\": \"http://www.zillow.com/local-info/NC-Raleigh/West-Raleigh/r_343864/\",\n",
    "               \"latitude\": \"35.779978\",\n",
    "               \"longitude\": \"-78.71578\"\n",
    "            },\n",
    "            {\n",
    "               \"id\": \"343873\",\n",
    "               \"name\": \"Southwest Raleigh\",\n",
    "               \"zindex\": {\n",
    "                  \"@currency\": \"USD\",\n",
    "                  \"#text\": \"137400\"\n",
    "               },\n",
    "               \"url\": \"http://www.zillow.com/local-info/NC-Raleigh/Southwest-Raleigh/r_343873/\",\n",
    "               \"latitude\": \"35.754773\",\n",
    "               \"longitude\": \"-78.660566\"\n",
    "            },\n",
    "            {\n",
    "               \"id\": \"270325\",\n",
    "               \"name\": \"Southeast Raleigh\",\n",
    "               \"zindex\": {\n",
    "                  \"@currency\": \"USD\",\n",
    "                  \"#text\": \"126200\"\n",
    "               },\n",
    "               \"url\": \"http://www.zillow.com/local-info/NC-Raleigh/Southeast-Raleigh/r_270325/\",\n",
    "               \"latitude\": \"35.758211\",\n",
    "               \"longitude\": \"-78.571625\"\n",
    "            },\n",
    "            {\n",
    "               \"id\": \"343866\",\n",
    "               \"name\": \"Hillsborough\",\n",
    "               \"zindex\": {\n",
    "                  \"@currency\": \"USD\",\n",
    "                  \"#text\": \"234300\"\n",
    "               },\n",
    "               \"url\": \"http://www.zillow.com/local-info/NC-Raleigh/Hillsborough/r_343866/\",\n",
    "               \"latitude\": \"35.787748\",\n",
    "               \"longitude\": \"-78.669849\"\n",
    "            },\n",
    "            {\n",
    "               \"id\": \"343867\",\n",
    "               \"name\": \"East Raleigh\",\n",
    "               \"zindex\": {\n",
    "                  \"@currency\": \"USD\",\n",
    "                  \"#text\": \"124500\"\n",
    "               },\n",
    "               \"url\": \"http://www.zillow.com/local-info/NC-Raleigh/East-Raleigh/r_343867/\",\n",
    "               \"latitude\": \"35.792533\",\n",
    "               \"longitude\": \"-78.598531\"\n",
    "            },\n",
    "            {\n",
    "               \"id\": \"343876\",\n",
    "               \"name\": \"South Raleigh\",\n",
    "               \"zindex\": {\n",
    "                  \"@currency\": \"USD\",\n",
    "                  \"#text\": \"121200\"\n",
    "               },\n",
    "               \"url\": \"http://www.zillow.com/local-info/NC-Raleigh/South-Raleigh/r_343876/\",\n",
    "               \"latitude\": \"35.742083\",\n",
    "               \"longitude\": \"-78.591262\"\n",
    "            },\n",
    "            {\n",
    "               \"id\": \"184194\",\n",
    "               \"name\": \"Six Forks\",\n",
    "               \"zindex\": {\n",
    "                  \"@currency\": \"USD\",\n",
    "                  \"#text\": \"331100\"\n",
    "               },\n",
    "               \"url\": \"http://www.zillow.com/local-info/NC-Raleigh/Six-Forks/r_184194/\",\n",
    "               \"latitude\": \"35.83543\",\n",
    "               \"longitude\": \"-78.643966\"\n",
    "            },\n",
    "            {\n",
    "               \"id\": \"343870\",\n",
    "               \"name\": \"Falls of Neuse\",\n",
    "               \"zindex\": {\n",
    "                  \"@currency\": \"USD\",\n",
    "                  \"#text\": \"251600\"\n",
    "               },\n",
    "               \"url\": \"http://www.zillow.com/local-info/NC-Raleigh/Falls-of-Neuse/r_343870/\",\n",
    "               \"latitude\": \"35.838779\",\n",
    "               \"longitude\": \"-78.623544\"\n",
    "            },\n",
    "            {\n",
    "               \"id\": \"343863\",\n",
    "               \"name\": \"Wade\",\n",
    "               \"zindex\": {\n",
    "                  \"@currency\": \"USD\",\n",
    "                  \"#text\": \"395100\"\n",
    "               },\n",
    "               \"url\": \"http://www.zillow.com/local-info/NC-Raleigh/Wade/r_343863/\",\n",
    "               \"latitude\": \"35.801174\",\n",
    "               \"longitude\": \"-78.674027\"\n",
    "            },\n",
    "            {\n",
    "               \"id\": \"343862\",\n",
    "               \"name\": \"Five Points\",\n",
    "               \"zindex\": {\n",
    "                  \"@currency\": \"USD\",\n",
    "                  \"#text\": \"344300\"\n",
    "               },\n",
    "               \"url\": \"http://www.zillow.com/local-info/NC-Raleigh/Five-Points/r_343862/\",\n",
    "               \"latitude\": \"35.804884\",\n",
    "               \"longitude\": \"-78.639697\"\n",
    "            },\n",
    "            {\n",
    "               \"id\": \"343875\",\n",
    "               \"name\": \"South Central\",\n",
    "               \"zindex\": {\n",
    "                  \"@currency\": \"USD\",\n",
    "                  \"#text\": \"93500\"\n",
    "               },\n",
    "               \"url\": \"http://www.zillow.com/local-info/NC-Raleigh/South-Central/r_343875/\",\n",
    "               \"latitude\": \"35.768487\",\n",
    "               \"longitude\": \"-78.623925\"\n",
    "            },\n",
    "            {\n",
    "               \"id\": \"343871\",\n",
    "               \"name\": \"Glenwood\",\n",
    "               \"zindex\": {\n",
    "                  \"@currency\": \"USD\",\n",
    "                  \"#text\": \"541500\"\n",
    "               },\n",
    "               \"url\": \"http://www.zillow.com/local-info/NC-Raleigh/Glenwood/r_343871/\",\n",
    "               \"latitude\": \"35.820263\",\n",
    "               \"longitude\": \"-78.664014\"\n",
    "            },\n",
    "            {\n",
    "               \"id\": \"343872\",\n",
    "               \"name\": \"North Central\",\n",
    "               \"zindex\": {\n",
    "                  \"@currency\": \"USD\",\n",
    "                  \"#text\": \"169900\"\n",
    "               },\n",
    "               \"url\": \"http://www.zillow.com/local-info/NC-Raleigh/North-Central/r_343872/\",\n",
    "               \"latitude\": \"35.786433\",\n",
    "               \"longitude\": \"-78.63006\"\n",
    "            },\n",
    "            {\n",
    "               \"id\": \"343874\",\n",
    "               \"name\": \"Central\",\n",
    "               \"zindex\": {\n",
    "                  \"@currency\": \"USD\",\n",
    "                  \"#text\": \"181000\"\n",
    "               },\n",
    "               \"url\": \"http://www.zillow.com/local-info/NC-Raleigh/Central/r_343874/\",\n",
    "               \"latitude\": \"35.772286\",\n",
    "               \"longitude\": \"-78.642091\"\n",
    "            },\n",
    "            {\n",
    "               \"id\": \"343865\",\n",
    "               \"name\": \"Mordecai\",\n",
    "               \"zindex\": {\n",
    "                  \"@currency\": \"USD\",\n",
    "                  \"#text\": \"264500\"\n",
    "               },\n",
    "               \"url\": \"http://www.zillow.com/local-info/NC-Raleigh/Mordecai/r_343865/\",\n",
    "               \"latitude\": \"35.796163\",\n",
    "               \"longitude\": \"-78.634923\"\n",
    "            }\n",
    "         ]\n",
    "      }\n",
    "   }\n",
    "}"
   ]
  },
  {
   "cell_type": "code",
   "execution_count": null,
   "metadata": {},
   "outputs": [],
   "source": [
    "json_data_f['request']"
   ]
  },
  {
   "cell_type": "code",
   "execution_count": null,
   "metadata": {},
   "outputs": [],
   "source": [
    "json_data_f['response']"
   ]
  },
  {
   "cell_type": "code",
   "execution_count": null,
   "metadata": {},
   "outputs": [],
   "source": [
    "json_data_f['response']['list']"
   ]
  },
  {
   "cell_type": "code",
   "execution_count": null,
   "metadata": {
    "scrolled": true
   },
   "outputs": [],
   "source": [
    "json_data_f['response']['list']['region']"
   ]
  },
  {
   "cell_type": "code",
   "execution_count": null,
   "metadata": {},
   "outputs": [],
   "source": [
    "loop = json_data_f['response']['list']['region']\n",
    "loop"
   ]
  },
  {
   "cell_type": "code",
   "execution_count": null,
   "metadata": {},
   "outputs": [],
   "source": [
    "# n = 0\n",
    "list_zindex = []\n",
    "list_name = []\n",
    "list_zip = []\n",
    "\n",
    "for x in loop:\n",
    "    list_name.append(x['name'])\n",
    "    list_zip.append(x['id'])\n",
    "    list_zindex.append(x['zindex']['#text'])\n",
    "#     print(x)\n",
    "#     print(f\"{\"name\"}{\"zindex\"}\")\n",
    "#     json_data_f['response']['list']['region']\n",
    "#     print(json_data_f['response']['list']['region'][0])\n",
    "print(list_name)\n",
    "print(list_zindex)\n",
    "print(list_zip)"
   ]
  },
  {
   "cell_type": "code",
   "execution_count": 2,
   "metadata": {},
   "outputs": [
    {
     "ename": "NameError",
     "evalue": "name 'list_name' is not defined",
     "output_type": "error",
     "traceback": [
      "\u001b[1;31m---------------------------------------------------------------------------\u001b[0m",
      "\u001b[1;31mNameError\u001b[0m                                 Traceback (most recent call last)",
      "\u001b[1;32m<ipython-input-2-6bfc168025c4>\u001b[0m in \u001b[0;36m<module>\u001b[1;34m\u001b[0m\n\u001b[1;32m----> 1\u001b[1;33m \u001b[0mdf_name\u001b[0m \u001b[1;33m=\u001b[0m \u001b[0mpd\u001b[0m\u001b[1;33m.\u001b[0m\u001b[0mDataFrame\u001b[0m\u001b[1;33m(\u001b[0m\u001b[0mlist_name\u001b[0m\u001b[1;33m)\u001b[0m\u001b[1;33m\u001b[0m\u001b[1;33m\u001b[0m\u001b[0m\n\u001b[0m\u001b[0;32m      2\u001b[0m \u001b[0mdf_zindex\u001b[0m \u001b[1;33m=\u001b[0m \u001b[0mpd\u001b[0m\u001b[1;33m.\u001b[0m\u001b[0mDataFrame\u001b[0m\u001b[1;33m(\u001b[0m\u001b[0mlist_zindex\u001b[0m\u001b[1;33m)\u001b[0m\u001b[1;33m\u001b[0m\u001b[1;33m\u001b[0m\u001b[0m\n\u001b[0;32m      3\u001b[0m \u001b[0mdf_zip\u001b[0m \u001b[1;33m=\u001b[0m \u001b[0mpd\u001b[0m\u001b[1;33m.\u001b[0m\u001b[0mDataFrame\u001b[0m\u001b[1;33m(\u001b[0m\u001b[0mlist_zip\u001b[0m\u001b[1;33m)\u001b[0m\u001b[1;33m\u001b[0m\u001b[1;33m\u001b[0m\u001b[0m\n\u001b[0;32m      4\u001b[0m \u001b[1;31m# df_name\u001b[0m\u001b[1;33m\u001b[0m\u001b[1;33m\u001b[0m\u001b[1;33m\u001b[0m\u001b[0m\n\u001b[0;32m      5\u001b[0m \u001b[1;31m# df_zindex\u001b[0m\u001b[1;33m\u001b[0m\u001b[1;33m\u001b[0m\u001b[1;33m\u001b[0m\u001b[0m\n",
      "\u001b[1;31mNameError\u001b[0m: name 'list_name' is not defined"
     ]
    }
   ],
   "source": [
    "df_name = pd.DataFrame(list_name)\n",
    "df_zindex = pd.DataFrame(list_zindex)\n",
    "df_zip = pd.DataFrame(list_zip)\n",
    "# df_name\n",
    "# df_zindex\n",
    "# frames = [df_name, df_zindex]\n",
    "# median_home_value_Raleigh_df = df_name.merge(df_zindex)\n",
    "# median_home_value_Raleigh_df"
   ]
  },
  {
   "cell_type": "code",
   "execution_count": 3,
   "metadata": {
    "scrolled": false
   },
   "outputs": [
    {
     "ename": "NameError",
     "evalue": "name 'df_name' is not defined",
     "output_type": "error",
     "traceback": [
      "\u001b[1;31m---------------------------------------------------------------------------\u001b[0m",
      "\u001b[1;31mNameError\u001b[0m                                 Traceback (most recent call last)",
      "\u001b[1;32m<ipython-input-3-aae020940242>\u001b[0m in \u001b[0;36m<module>\u001b[1;34m\u001b[0m\n\u001b[1;32m----> 1\u001b[1;33m \u001b[0mzillow_df\u001b[0m \u001b[1;33m=\u001b[0m \u001b[0mpd\u001b[0m\u001b[1;33m.\u001b[0m\u001b[0mconcat\u001b[0m\u001b[1;33m(\u001b[0m\u001b[1;33m[\u001b[0m\u001b[0mdf_name\u001b[0m\u001b[1;33m,\u001b[0m \u001b[0mdf_zip\u001b[0m\u001b[1;33m,\u001b[0m \u001b[0mdf_zindex\u001b[0m\u001b[1;33m]\u001b[0m\u001b[1;33m,\u001b[0m \u001b[0maxis\u001b[0m\u001b[1;33m=\u001b[0m\u001b[1;36m1\u001b[0m\u001b[1;33m,\u001b[0m \u001b[0mkeys\u001b[0m\u001b[1;33m=\u001b[0m\u001b[1;33m[\u001b[0m\u001b[1;34m'Area Name'\u001b[0m\u001b[1;33m,\u001b[0m \u001b[1;34m'Zip Code'\u001b[0m\u001b[1;33m,\u001b[0m \u001b[1;34m'Median Home Value'\u001b[0m\u001b[1;33m]\u001b[0m\u001b[1;33m)\u001b[0m\u001b[1;33m\u001b[0m\u001b[1;33m\u001b[0m\u001b[0m\n\u001b[0m\u001b[0;32m      2\u001b[0m \u001b[0mzillow_df\u001b[0m\u001b[1;33m\u001b[0m\u001b[1;33m\u001b[0m\u001b[0m\n",
      "\u001b[1;31mNameError\u001b[0m: name 'df_name' is not defined"
     ]
    }
   ],
   "source": [
    "zillow_df = pd.concat([df_name, df_zip, df_zindex], axis=1, keys=['Area Name', 'Zip Code', 'Median Home Value'])\n",
    "zillow_df"
   ]
  },
  {
   "cell_type": "code",
   "execution_count": null,
   "metadata": {},
   "outputs": [],
   "source": []
  },
  {
   "cell_type": "code",
   "execution_count": null,
   "metadata": {},
   "outputs": [],
   "source": []
  }
 ],
 "metadata": {
  "kernelspec": {
   "display_name": "Python [conda env:PythonData] *",
   "language": "python",
   "name": "conda-env-PythonData-py"
  },
  "language_info": {
   "codemirror_mode": {
    "name": "ipython",
    "version": 3
   },
   "file_extension": ".py",
   "mimetype": "text/x-python",
   "name": "python",
   "nbconvert_exporter": "python",
   "pygments_lexer": "ipython3",
   "version": "3.6.9"
  }
 },
 "nbformat": 4,
 "nbformat_minor": 2
}

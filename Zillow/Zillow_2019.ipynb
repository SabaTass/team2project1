{
 "cells": [
  {
   "cell_type": "code",
   "execution_count": 4,
   "metadata": {},
   "outputs": [],
   "source": [
    "# Import dependencies & setup\n",
    "import matplotlib.pyplot as plt\n",
    "import pandas as pd\n",
    "import numpy as np\n",
    "import requests\n",
    "import time\n",
    "\n",
    "import json\n",
    "import gmaps\n",
    "\n",
    "\n",
    "# Import API key\n",
    "from API_Key_Holder import Z_API_Key"
   ]
  },
  {
   "cell_type": "code",
   "execution_count": 2,
   "metadata": {},
   "outputs": [],
   "source": [
    "# note that the issue we have with the excel file is that we need to \"weight\" the median home values\n",
    "# across different areas (so that the weighted areas correspond with Andy's crime data).\n",
    "# I've used the following website:\n",
    "# https://www.zillow.com/research/local-market-reports/\n",
    "# which shows that for Raleigh ~1.4% of total homes in the market are listed for sale. \n",
    "# I've made the assumption that all areas/regions/counties within Raleigh all have exactly 1.4% of total homes \n",
    "# listed as for sale.\n",
    "# Therefore, using the data for the number of homes listed for sale in each region I then divided these \n",
    "# numbers by 1.4% to get to the total homes in each area. \n",
    "# I then weighted the median home values for each segment of Raleigh by the number of homes in each area\n",
    "# of each segment."
   ]
  },
  {
   "cell_type": "code",
   "execution_count": 5,
   "metadata": {},
   "outputs": [
    {
     "data": {
      "application/vnd.jupyter.widget-view+json": {
       "model_id": "8d1215e9b5f446ac9de8828fb183ba7b",
       "version_major": 2,
       "version_minor": 0
      },
      "text/plain": [
       "Figure(layout=FigureLayout(height='420px'))"
      ]
     },
     "metadata": {},
     "output_type": "display_data"
    }
   ],
   "source": [
    "# Sources:\n",
    "fig = gmaps.figure()\n",
    "# fig"
   ]
  },
  {
   "cell_type": "code",
   "execution_count": null,
   "metadata": {},
   "outputs": [],
   "source": [
    "heat_layer = gmaps.heatmap_layer()"
   ]
  }
 ],
 "metadata": {
  "kernelspec": {
   "display_name": "Python 3",
   "language": "python",
   "name": "python3"
  },
  "language_info": {
   "codemirror_mode": {
    "name": "ipython",
    "version": 3
   },
   "file_extension": ".py",
   "mimetype": "text/x-python",
   "name": "python",
   "nbconvert_exporter": "python",
   "pygments_lexer": "ipython3",
   "version": "3.6.9"
  }
 },
 "nbformat": 4,
 "nbformat_minor": 2
}

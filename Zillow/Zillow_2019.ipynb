{
 "cells": [
  {
   "cell_type": "code",
   "execution_count": 1,
   "metadata": {},
   "outputs": [],
   "source": [
    "# Import dependencies & setup\n",
    "import matplotlib.pyplot as plt\n",
    "import pandas as pd\n",
    "import numpy as np\n",
    "import requests\n",
    "import time\n",
    "# from census import Census\n",
    "from pprint import pprint\n",
    "# import pprint\n",
    "import xml.etree.ElementTree as ET\n",
    "from xmltodict import parse\n",
    "import json\n",
    "\n",
    "# Import API key\n",
    "from API_Key_Holder import Z_API_Key"
   ]
  },
  {
   "cell_type": "code",
   "execution_count": 2,
   "metadata": {},
   "outputs": [],
   "source": [
    "# note that the issue we have with the excel file is that we need to \"weight\" the median home values\n",
    "# across different areas (so that the weighted areas correspond with Andy's crime data).\n",
    "# I've used the following website:\n",
    "# https://www.zillow.com/research/local-market-reports/\n",
    "# which shows that for Raleigh ~1.4% of total homes in the market are listed for sale. \n",
    "# I've made the assumption that all areas/regions/counties within Raleigh all have exactly 1.4% of total homes \n",
    "# listed as for sale.\n",
    "# Therefore once I have data for the number of homes listed for sale in each region I can then divide these \n",
    "# numbers by 1.4% to get to the total homes in each area. \n",
    "# I will then weight the median home values for each segment of Raleigh by the number of homes in each area\n",
    "# of each segment."
   ]
  },
  {
   "cell_type": "code",
   "execution_count": null,
   "metadata": {},
   "outputs": [],
   "source": [
    "# Sources:\n"
   ]
  }
 ],
 "metadata": {
  "kernelspec": {
   "display_name": "Python 3",
   "language": "python",
   "name": "python3"
  },
  "language_info": {
   "codemirror_mode": {
    "name": "ipython",
    "version": 3
   },
   "file_extension": ".py",
   "mimetype": "text/x-python",
   "name": "python",
   "nbconvert_exporter": "python",
   "pygments_lexer": "ipython3",
   "version": "3.6.9"
  }
 },
 "nbformat": 4,
 "nbformat_minor": 2
}

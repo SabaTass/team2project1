{
 "cells": [
  {
   "cell_type": "code",
   "execution_count": 16,
   "metadata": {},
   "outputs": [],
   "source": [
    "# Import dependencies & setup\n",
    "import matplotlib.pyplot as plt\n",
    "import pandas as pd\n",
    "import numpy as np\n",
    "import requests\n",
    "import time\n",
    "# from census import Census\n",
    "from pprint import pprint\n",
    "import xml.etree.ElementTree as ET\n",
    "from xmltodict import parse\n",
    "import json\n",
    "\n",
    "# Import API key\n",
    "from API_Key_Holder import Z_API_Key\n",
    "\n",
    "state = \"nc\"\n",
    "city = \"Raleigh\"\n",
    "childtype = \"neighborhood\"\n",
    "output = \"json\""
   ]
  },
  {
   "cell_type": "code",
   "execution_count": 17,
   "metadata": {},
   "outputs": [],
   "source": [
    "base_url = \"http://www.zillow.com/webservice/GetRegionChildren.htm?zws-\"\n",
    "\n",
    "# Build partial query URL\n",
    "url = f\"{base_url}id={Z_API_Key}&state={state}&city={city}&childtype={childtype}&output={output}\"\n",
    "\n",
    "# <ZWSID>&state=wa&city=seattle&childtype=neighborhood"
   ]
  },
  {
   "cell_type": "code",
   "execution_count": 22,
   "metadata": {},
   "outputs": [
    {
     "name": "stdout",
     "output_type": "stream",
     "text": [
      "('{\"RegionChildren:regionchildren\": {\"@xsi:schemaLocation\": '\n",
      " '\"http://www.zillow.com/static/xsd/RegionChildren.xsd '\n",
      " 'http://www.zillowstatic.com/vstatic/80d5e73/static/xsd/RegionChildren.xsd\", '\n",
      " '\"@xmlns:xsi\": \"http://www.w3.org/2001/XMLSchema-instance\", '\n",
      " '\"@xmlns:RegionChildren\": '\n",
      " '\"http://www.zillow.com/static/xsd/RegionChildren.xsd\", \"request\": {\"state\": '\n",
      " '\"nc\", \"city\": \"Raleigh\", \"childtype\": \"neighborhood\"}, \"message\": {\"text\": '\n",
      " '\"Request successfully processed\", \"code\": \"0\"}, \"response\": {\"region\": '\n",
      " '{\"id\": \"54047\", \"latitude\": \"35.78637\", \"longitude\": \"-78.625488\"}, '\n",
      " '\"subregiontype\": \"neighborhood\", \"list\": {\"count\": \"18\", \"region\": [{\"id\": '\n",
      " '\"270318\", \"name\": \"North Raleigh\", \"zindex\": {\"@currency\": \"USD\", \"#text\": '\n",
      " '\"238100\"}, \"url\": '\n",
      " '\"http://www.zillow.com/local-info/NC-Raleigh/North-Raleigh/r_270318/\", '\n",
      " '\"latitude\": \"35.910781\", \"longitude\": \"-78.610127\"}, {\"id\": \"343868\", '\n",
      " '\"name\": \"Northwest Raleigh\", \"zindex\": {\"@currency\": \"USD\", \"#text\": '\n",
      " '\"246100\"}, \"url\": '\n",
      " '\"http://www.zillow.com/local-info/NC-Raleigh/Northwest-Raleigh/r_343868/\", '\n",
      " '\"latitude\": \"35.870212\", \"longitude\": \"-78.745308\"}, {\"id\": \"343869\", '\n",
      " '\"name\": \"Northeast Raleigh\", \"zindex\": {\"@currency\": \"USD\", \"#text\": '\n",
      " '\"148600\"}, \"url\": '\n",
      " '\"http://www.zillow.com/local-info/NC-Raleigh/Northeast-Raleigh/r_343869/\", '\n",
      " '\"latitude\": \"35.849651\", \"longitude\": \"-78.555473\"}, {\"id\": \"343864\", '\n",
      " '\"name\": \"West Raleigh\", \"zindex\": {\"@currency\": \"USD\", \"#text\": \"144100\"}, '\n",
      " '\"url\": \"http://www.zillow.com/local-info/NC-Raleigh/West-Raleigh/r_343864/\", '\n",
      " '\"latitude\": \"35.779978\", \"longitude\": \"-78.71578\"}, {\"id\": \"343873\", \"name\": '\n",
      " '\"Southwest Raleigh\", \"zindex\": {\"@currency\": \"USD\", \"#text\": \"137400\"}, '\n",
      " '\"url\": '\n",
      " '\"http://www.zillow.com/local-info/NC-Raleigh/Southwest-Raleigh/r_343873/\", '\n",
      " '\"latitude\": \"35.754773\", \"longitude\": \"-78.660566\"}, {\"id\": \"270325\", '\n",
      " '\"name\": \"Southeast Raleigh\", \"zindex\": {\"@currency\": \"USD\", \"#text\": '\n",
      " '\"126200\"}, \"url\": '\n",
      " '\"http://www.zillow.com/local-info/NC-Raleigh/Southeast-Raleigh/r_270325/\", '\n",
      " '\"latitude\": \"35.758211\", \"longitude\": \"-78.571625\"}, {\"id\": \"343866\", '\n",
      " '\"name\": \"Hillsborough\", \"zindex\": {\"@currency\": \"USD\", \"#text\": \"234300\"}, '\n",
      " '\"url\": \"http://www.zillow.com/local-info/NC-Raleigh/Hillsborough/r_343866/\", '\n",
      " '\"latitude\": \"35.787748\", \"longitude\": \"-78.669849\"}, {\"id\": \"343867\", '\n",
      " '\"name\": \"East Raleigh\", \"zindex\": {\"@currency\": \"USD\", \"#text\": \"124500\"}, '\n",
      " '\"url\": \"http://www.zillow.com/local-info/NC-Raleigh/East-Raleigh/r_343867/\", '\n",
      " '\"latitude\": \"35.792533\", \"longitude\": \"-78.598531\"}, {\"id\": \"343876\", '\n",
      " '\"name\": \"South Raleigh\", \"zindex\": {\"@currency\": \"USD\", \"#text\": \"121200\"}, '\n",
      " '\"url\": '\n",
      " '\"http://www.zillow.com/local-info/NC-Raleigh/South-Raleigh/r_343876/\", '\n",
      " '\"latitude\": \"35.742083\", \"longitude\": \"-78.591262\"}, {\"id\": \"184194\", '\n",
      " '\"name\": \"Six Forks\", \"zindex\": {\"@currency\": \"USD\", \"#text\": \"331100\"}, '\n",
      " '\"url\": \"http://www.zillow.com/local-info/NC-Raleigh/Six-Forks/r_184194/\", '\n",
      " '\"latitude\": \"35.83543\", \"longitude\": \"-78.643966\"}, {\"id\": \"343870\", \"name\": '\n",
      " '\"Falls of Neuse\", \"zindex\": {\"@currency\": \"USD\", \"#text\": \"251600\"}, \"url\": '\n",
      " '\"http://www.zillow.com/local-info/NC-Raleigh/Falls-of-Neuse/r_343870/\", '\n",
      " '\"latitude\": \"35.838779\", \"longitude\": \"-78.623544\"}, {\"id\": \"343863\", '\n",
      " '\"name\": \"Wade\", \"zindex\": {\"@currency\": \"USD\", \"#text\": \"395100\"}, \"url\": '\n",
      " '\"http://www.zillow.com/local-info/NC-Raleigh/Wade/r_343863/\", \"latitude\": '\n",
      " '\"35.801174\", \"longitude\": \"-78.674027\"}, {\"id\": \"343862\", \"name\": \"Five '\n",
      " 'Points\", \"zindex\": {\"@currency\": \"USD\", \"#text\": \"344300\"}, \"url\": '\n",
      " '\"http://www.zillow.com/local-info/NC-Raleigh/Five-Points/r_343862/\", '\n",
      " '\"latitude\": \"35.804884\", \"longitude\": \"-78.639697\"}, {\"id\": \"343875\", '\n",
      " '\"name\": \"South Central\", \"zindex\": {\"@currency\": \"USD\", \"#text\": \"93500\"}, '\n",
      " '\"url\": '\n",
      " '\"http://www.zillow.com/local-info/NC-Raleigh/South-Central/r_343875/\", '\n",
      " '\"latitude\": \"35.768487\", \"longitude\": \"-78.623925\"}, {\"id\": \"343871\", '\n",
      " '\"name\": \"Glenwood\", \"zindex\": {\"@currency\": \"USD\", \"#text\": \"541500\"}, '\n",
      " '\"url\": \"http://www.zillow.com/local-info/NC-Raleigh/Glenwood/r_343871/\", '\n",
      " '\"latitude\": \"35.820263\", \"longitude\": \"-78.664014\"}, {\"id\": \"343872\", '\n",
      " '\"name\": \"North Central\", \"zindex\": {\"@currency\": \"USD\", \"#text\": \"169900\"}, '\n",
      " '\"url\": '\n",
      " '\"http://www.zillow.com/local-info/NC-Raleigh/North-Central/r_343872/\", '\n",
      " '\"latitude\": \"35.786433\", \"longitude\": \"-78.63006\"}, {\"id\": \"343874\", \"name\": '\n",
      " '\"Central\", \"zindex\": {\"@currency\": \"USD\", \"#text\": \"181000\"}, \"url\": '\n",
      " '\"http://www.zillow.com/local-info/NC-Raleigh/Central/r_343874/\", \"latitude\": '\n",
      " '\"35.772286\", \"longitude\": \"-78.642091\"}, {\"id\": \"343865\", \"name\": '\n",
      " '\"Mordecai\", \"zindex\": {\"@currency\": \"USD\", \"#text\": \"264500\"}, \"url\": '\n",
      " '\"http://www.zillow.com/local-info/NC-Raleigh/Mordecai/r_343865/\", '\n",
      " '\"latitude\": \"35.796163\", \"longitude\": \"-78.634923\"}]}}}}')\n"
     ]
    }
   ],
   "source": [
    "XML_Data = requests.get(url).content\n",
    "pprint(json.dumps(parse(XML_Data)), indent=4)"
   ]
  },
  {
   "cell_type": "code",
   "execution_count": 15,
   "metadata": {},
   "outputs": [
    {
     "data": {
      "text/plain": [
       "'http://www.zillow.com/webservice/GetRegionChildren.htm?zws-id=X1-ZWz1hdfzv5bci3_5xiff&state=nc&city=Raleigh&childtype=neighborhood&output=json'"
      ]
     },
     "execution_count": 15,
     "metadata": {},
     "output_type": "execute_result"
    }
   ],
   "source": [
    "# response = requests.get(url.replace(' ','&')).json()\n",
    "# response = requests.get(url).json()\n",
    "# # response = requests.get(url)\n",
    "# pprint(response)\n",
    "url"
   ]
  },
  {
   "cell_type": "code",
   "execution_count": null,
   "metadata": {},
   "outputs": [],
   "source": []
  }
 ],
 "metadata": {
  "kernelspec": {
   "display_name": "Python [conda env:PythonData] *",
   "language": "python",
   "name": "conda-env-PythonData-py"
  },
  "language_info": {
   "codemirror_mode": {
    "name": "ipython",
    "version": 3
   },
   "file_extension": ".py",
   "mimetype": "text/x-python",
   "name": "python",
   "nbconvert_exporter": "python",
   "pygments_lexer": "ipython3",
   "version": "3.6.9"
  }
 },
 "nbformat": 4,
 "nbformat_minor": 2
}
